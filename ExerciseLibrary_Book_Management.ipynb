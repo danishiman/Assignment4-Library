{
 "cells": [
  {
   "cell_type": "markdown",
   "id": "9d82d4c1",
   "metadata": {},
   "source": [
    "# Library Book Management"
   ]
  },
  {
   "cell_type": "code",
   "execution_count": 50,
   "id": "20be89dd",
   "metadata": {},
   "outputs": [
    {
     "name": "stdout",
     "output_type": "stream",
     "text": [
      "Checked out processed by: Sarah\n",
      "Books checked out: \n",
      "-1984\n",
      "-mathbook\n",
      "Checked Duration: 3 weeks\n",
      "Additional Checkout details: \n",
      "-Late Fee:rm2\n",
      "-Renewal Allowed:2\n",
      "Special condition for Checkout: \n",
      "-Handle with care\n"
     ]
    }
   ],
   "source": [
    "def checkout_book(librarian_name,*book_titles,duration='2 Weeks',**details):\n",
    "    def special_note(*special_cond):\n",
    "    \n",
    "        print(\"Checked out processed by: \"+ librarian_name)\n",
    "    \n",
    "        print(\"Books checked out: \")\n",
    "        for books in book_titles:\n",
    "            print(\"-\"+books)\n",
    "    \n",
    "        print(\"Checked Duration: \"+ duration)\n",
    "    \n",
    "        print(\"Additional Checkout details: \")\n",
    "        for detail,value in details.items():\n",
    "            print(\"-\" + detail.replace('_',' ').title()+ \":\"+ str(value))\n",
    "    \n",
    "        print(\"Special condition for Checkout: \")\n",
    "        for note in special_cond:\n",
    "            print(\"-\" + note)\n",
    "    \n",
    "    \n",
    "   \n",
    "    special_note(\"Handle with care\")\n",
    "checkout_book('Sarah','1984','mathbook',duration='3 weeks',Late_fee=\"rm2\",Renewal_allowed=2)"
   ]
  }
 ],
 "metadata": {
  "kernelspec": {
   "display_name": "Python 3 (ipykernel)",
   "language": "python",
   "name": "python3"
  },
  "language_info": {
   "codemirror_mode": {
    "name": "ipython",
    "version": 3
   },
   "file_extension": ".py",
   "mimetype": "text/x-python",
   "name": "python",
   "nbconvert_exporter": "python",
   "pygments_lexer": "ipython3",
   "version": "3.11.5"
  }
 },
 "nbformat": 4,
 "nbformat_minor": 5
}
